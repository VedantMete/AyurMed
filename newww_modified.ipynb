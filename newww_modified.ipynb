{
  "cells": [
    {
      "cell_type": "code",
      "execution_count": 114,
      "metadata": {
        "id": "iQFfqSww5odB"
      },
      "outputs": [],
      "source": [
        "import pandas as pd\n",
        "from sklearn.model_selection import train_test_split\n",
        "from sklearn.tree import DecisionTreeClassifier\n",
        "from sklearn.metrics import accuracy_score, classification_report\n",
        "from sklearn.feature_extraction.text import TfidfVectorizer\n",
        "from sklearn.metrics.pairwise import linear_kernel"
      ]
    },
    {
      "cell_type": "code",
      "execution_count": 115,
      "metadata": {
        "id": "4N4wH-42_a26"
      },
      "outputs": [],
      "source": [
        "dataset_file = 'less_more - decoctions - Sheet1.csv'\n",
        "df = pd.read_csv(dataset_file)"
      ]
    },
    {
      "cell_type": "code",
      "execution_count": 116,
      "metadata": {
        "id": "TMjQHe1d_dkV"
      },
      "outputs": [],
      "source": [
        "X = df.drop('Formulation', axis=1)\n",
        "y = df['Formulation']"
      ]
    },
    {
      "cell_type": "code",
      "execution_count": 117,
      "metadata": {
        "id": "s30MW7eb_f0h"
      },
      "outputs": [],
      "source": [
        "X_train, X_test, y_train, y_test = train_test_split(X, y, test_size=0.2, random_state=42)"
      ]
    },
    {
      "cell_type": "code",
      "execution_count": 118,
      "metadata": {
        "id": "n9rQkDJ1_jIT"
      },
      "outputs": [],
      "source": [
        "clf = DecisionTreeClassifier(random_state=42)"
      ]
    },
    {
      "cell_type": "code",
      "execution_count": 119,
      "metadata": {
        "colab": {
          "base_uri": "https://localhost:8080/",
          "height": 74
        },
        "id": "lQXlhMLI_lyN",
        "outputId": "02c781b4-f725-4713-ea0d-c34dfcdffb6f"
      },
      "outputs": [
        {
          "data": {
            "text/plain": [
              "DecisionTreeClassifier(ccp_alpha=0.0, class_weight=None, criterion='gini',\n",
              "                       max_depth=None, max_features=None, max_leaf_nodes=None,\n",
              "                       min_impurity_decrease=0.0, min_impurity_split=None,\n",
              "                       min_samples_leaf=1, min_samples_split=2,\n",
              "                       min_weight_fraction_leaf=0.0, presort='deprecated',\n",
              "                       random_state=42, splitter='best')"
            ]
          },
          "execution_count": 119,
          "metadata": {},
          "output_type": "execute_result"
        }
      ],
      "source": [
        "clf.fit(X_train, y_train)"
      ]
    },
    {
      "cell_type": "code",
      "execution_count": 120,
      "metadata": {
        "id": "NyvQcQiC_qHu"
      },
      "outputs": [],
      "source": [
        "y_pred = clf.predict(X_test)"
      ]
    },
    {
      "cell_type": "code",
      "execution_count": 121,
      "metadata": {
        "colab": {
          "base_uri": "https://localhost:8080/"
        },
        "id": "6aqwdib3ALrB",
        "outputId": "d568a13b-2c1a-4a93-8eb0-cb44ec2da772"
      },
      "outputs": [],
      "source": [
        "\n",
        "itch = input('Itching?: ')\n",
        "skin = input('skin rash?: ')\n",
        "nod =  input('nodal skin infection?: ')\n",
        "sneez = input('Sneezing?: ')\n",
        "shiver = input('shivering?: ')\n",
        "stomach = input('Stomach pain?: ')\n",
        "vom = input('Vometing?: ')\n",
        "coug = input('Coughing?: ')\n",
        "fever = input('High fever?: ')\n",
        "indiges = input('Indisegtion?: ')\n",
        "\n",
        "\n"
      ]
    },
    {
      "cell_type": "code",
      "execution_count": 122,
      "metadata": {
        "id": "uDbbcOi_MHN2"
      },
      "outputs": [],
      "source": [
        "def replace_input(input_string):\n",
        "    if input_string.lower() == 'yes':\n",
        "        return 1\n",
        "    elif input_string.lower() == 'no':\n",
        "        return 0\n",
        "    else:\n",
        "        return 'Invalid input'\n",
        "ittt = replace_input(itch)\n",
        "skk = replace_input(skin)\n",
        "nodi = replace_input(nod)\n",
        "sniz = replace_input(sneez)\n",
        "shivv = replace_input(shiver)\n",
        "stom = replace_input(stomach)\n",
        "vomi= replace_input(vom)\n",
        "cougi = replace_input(coug)\n",
        "feveri = replace_input(fever)\n",
        "indigesi = replace_input(indiges)"
      ]
    },
    {
      "cell_type": "code",
      "execution_count": 123,
      "metadata": {
        "id": "lKOTMjQa_qu3"
      },
      "outputs": [],
      "source": [
        "new_data = pd.DataFrame({'itching': [ittt],'skin_rash': [skk], 'nodal_skin_eruptions': [nodi],'continuous_sneezing' : [sniz],'shivering' : [shivv],'chills' : [0],'joint_pain' : [0],'stomach_pain' : [stom],'acidity' : [1],'ulcers_on_tongue' : [1],'muscle_wasting' : [0],'vomiting' : [vomi],'burning_micturition' : [0],'spotting_ urination' : [0],'fatigue' : [0],'weight_gain' : [1],'anxiety' : [0],'cold_hands_and_feets' : [1],'mood_swings' : [1],'weight_loss' : [0],'restlessness' : [1],'lethargy' : [0],'patches_in_throat' : [0],'irregular_sugar_level' : [1],'cough' : [cougi],'high_fever' : [feveri],'sunken_eyes' : [0],'breathlessness' : [0],'sweating' : [1],'dehydration' : [0],'indigestion' : [indigesi]})\n",
        "new_data.head(10)\n",
        "prediction = clf.predict(new_data)"
      ]
    },
    {
      "cell_type": "code",
      "execution_count": 124,
      "metadata": {
        "id": "h6-moWGICEII"
      },
      "outputs": [],
      "source": [
        "data = pd.read_csv('homeremedy.csv')"
      ]
    },
    {
      "cell_type": "code",
      "execution_count": 125,
      "metadata": {
        "id": "J1_hl8-2CHX6"
      },
      "outputs": [],
      "source": [
        "tfidf_vectorizer = TfidfVectorizer()"
      ]
    },
    {
      "cell_type": "code",
      "execution_count": 126,
      "metadata": {
        "id": "Epixvb3UCJUq"
      },
      "outputs": [],
      "source": [
        "tfidf_matrix = tfidf_vectorizer.fit_transform(data['Formu'])"
      ]
    },
    {
      "cell_type": "code",
      "execution_count": 127,
      "metadata": {
        "id": "tJqV1CtUCOc2"
      },
      "outputs": [],
      "source": [
        "user_input_tfidf = tfidf_vectorizer.transform([prediction[0]])"
      ]
    },
    {
      "cell_type": "code",
      "execution_count": 128,
      "metadata": {
        "id": "ZdUV5Vv_CQwU"
      },
      "outputs": [],
      "source": [
        "cosine_similarities = linear_kernel(user_input_tfidf, tfidf_matrix).flatten()"
      ]
    },
    {
      "cell_type": "code",
      "execution_count": 129,
      "metadata": {
        "id": "mAPQIveiCSkz"
      },
      "outputs": [],
      "source": [
        "related_indices = cosine_similarities.argsort()[::-1]"
      ]
    },
    {
      "cell_type": "code",
      "execution_count": 130,
      "metadata": {
        "colab": {
          "base_uri": "https://localhost:8080/"
        },
        "id": "AJoSDhWYCUnq",
        "outputId": "63f7f792-eac4-4f54-a8b3-0a4f4465a1f2"
      },
      "outputs": [
        {
          "name": "stdout",
          "output_type": "stream",
          "text": [
            "\n",
            "Recommended Home Remedy of: Guduchi Kashayam\n",
            "1. Powder equal quantities of liquorice (mulathi) and cumin (jeera). Take ¼ teaspoon every day along with 1 teaspoon honey for a month. Eyes burning w Mash 1 ripe banana along with a little curd and water; take twice a day. Mix equal quantities of fenugreek seed (methi daana) powder along with Shikakai powder for washing hair. Wash frequently. Grind an onion with 1 teaspoon each black pepper and poppy seeds (khuskhus) soaked in ½ cup milk. Apply this paste on the head. Allow it to dry for 15-20 minutes. Wash in warm water. Mix the juice of bottle gourd (karela) and sesame oil (til ka tel) in the ratio of 4:1, and heat till the moisture is evaporated completely. Once cool, use it for massaging the head.\n",
            "2. 20 ml. decoction prepared from 5 gm. coarse powder with a pinch of ginger powder thrice a day.\n",
            "3. Eat ¼ teaspoon asafetida (hing) along with one large raisin (kishmish) every day. Heart weakness w Regular intake of ripe bananas strengthens the heart.\n",
            "4. Boil 2 figs (anjeer) in 1 cup of water. Drink daily for a month.\n",
            "5. 2 gm. powder of bark with water twice a day.\n"
          ]
        }
      ],
      "source": [
        "print(\"\\nRecommended Home Remedy of:\", prediction[0])\n",
        "for i, index in enumerate(related_indices[:5]):\n",
        "    print(f\"{i + 1}. {data['HomeRemedy'][index]}\")\n"
      ]
    }
  ],
  "metadata": {
    "colab": {
      "provenance": []
    },
    "kernelspec": {
      "display_name": "Python 3",
      "name": "python3"
    },
    "language_info": {
      "codemirror_mode": {
        "name": "ipython",
        "version": 3
      },
      "file_extension": ".py",
      "mimetype": "text/x-python",
      "name": "python",
      "nbconvert_exporter": "python",
      "pygments_lexer": "ipython3",
      "version": "3.7.0"
    }
  },
  "nbformat": 4,
  "nbformat_minor": 0
}
